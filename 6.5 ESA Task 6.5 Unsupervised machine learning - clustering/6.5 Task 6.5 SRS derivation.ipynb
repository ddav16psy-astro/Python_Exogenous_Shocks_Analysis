{
 "cells": [
  {
   "cell_type": "markdown",
   "id": "88e68315-0818-4a16-850a-7a7d1d088c2b",
   "metadata": {},
   "source": [
    "# 6.5 Task 6.5 SRS derivation"
   ]
  },
  {
   "cell_type": "markdown",
   "id": "e3f4b307-a344-48e8-ad99-52c63fce8602",
   "metadata": {},
   "source": [
    "## Table of Contents"
   ]
  },
  {
   "cell_type": "markdown",
   "id": "605976ae-cf19-470e-bc84-0a00e8bf72b8",
   "metadata": {},
   "source": [
    "#### 01. Import libraries and data"
   ]
  },
  {
   "cell_type": "markdown",
   "id": "8ef37f2a-68c4-4ad4-ba49-fcd764aa47f3",
   "metadata": {},
   "source": [
    "#### 02. Derive country SRS scores"
   ]
  },
  {
   "cell_type": "markdown",
   "id": "cedd15b7-14b4-416e-bcf3-7f6d4a0fa106",
   "metadata": {},
   "source": [
    "#### 03. Key project finding"
   ]
  },
  {
   "cell_type": "markdown",
   "id": "d13b1653-6b7b-4f8a-81f8-0a6ff2fb3c24",
   "metadata": {},
   "source": [
    "### 01. Import libraries and data"
   ]
  },
  {
   "cell_type": "code",
   "execution_count": 1,
   "id": "fb43455c-8378-44ce-9790-14b45477ac83",
   "metadata": {},
   "outputs": [],
   "source": [
    "# Import libraries\n",
    "import pandas as pd\n",
    "import numpy as np\n",
    "import os"
   ]
  },
  {
   "cell_type": "code",
   "execution_count": 3,
   "id": "855252b3-5d25-46b9-afd2-25d25e475ff1",
   "metadata": {},
   "outputs": [],
   "source": [
    "# Import data\n",
    "path = r'C:\\Users\\dirk8\\CareerFoundry Projects\\05-2025 Exogenous Shocks Analysis\\Data\\Prepared Data'\n",
    "df = pd.read_excel(os.path.join(path, 'SRS Component Data - Rankings.xlsx'), index_col=None)"
   ]
  },
  {
   "cell_type": "markdown",
   "id": "50bfce11-3f26-4621-8690-1b49e25b3249",
   "metadata": {},
   "source": [
    "### 02. Derive country SRS (\"Shock Resilience Score\")"
   ]
  },
  {
   "cell_type": "code",
   "execution_count": 6,
   "id": "973911fd-494a-4271-a524-ff8fc8b7d038",
   "metadata": {},
   "outputs": [
    {
     "data": {
      "text/plain": [
       "(7, 18)"
      ]
     },
     "execution_count": 6,
     "metadata": {},
     "output_type": "execute_result"
    }
   ],
   "source": [
    "# Check dimensions of imported file\n",
    "df.shape"
   ]
  },
  {
   "cell_type": "code",
   "execution_count": 8,
   "id": "12ffa234-b660-4f89-8f37-d7178c9f40e8",
   "metadata": {},
   "outputs": [
    {
     "data": {
      "text/plain": [
       "country                     object\n",
       "pc1_dis_gfc_rank             int64\n",
       "pc1_dis_cpc_rank             int64\n",
       "pc1_dis_cov19_rank           int64\n",
       "pc1_rec_gfc_rank             int64\n",
       "pc1_rec_cpc_rank             int64\n",
       "pc1_rec_cov19_rank           int64\n",
       "pc2_dis_gfc_rank             int64\n",
       "pc2_dis_cpc_rank             int64\n",
       "pc2_dis_cov19_rank           int64\n",
       "pc2_rec_gfc_rank             int64\n",
       "pc2_rec_cpc_rank             int64\n",
       "pc2_rec_cov19_rank           int64\n",
       "cluster_shifts_flag_rank     int64\n",
       "policy_lag_gfc_rank          int64\n",
       "policy_lag_cpc_rank          int64\n",
       "policy_lag_cov19_rank        int64\n",
       "missing_variables_rank       int64\n",
       "dtype: object"
      ]
     },
     "execution_count": 8,
     "metadata": {},
     "output_type": "execute_result"
    }
   ],
   "source": [
    "# Check datatypes\n",
    "df.dtypes"
   ]
  },
  {
   "cell_type": "code",
   "execution_count": 10,
   "id": "24b9ff8c-876e-42d5-bb39-34f33c7b61f1",
   "metadata": {},
   "outputs": [
    {
     "data": {
      "text/html": [
       "<div>\n",
       "<style scoped>\n",
       "    .dataframe tbody tr th:only-of-type {\n",
       "        vertical-align: middle;\n",
       "    }\n",
       "\n",
       "    .dataframe tbody tr th {\n",
       "        vertical-align: top;\n",
       "    }\n",
       "\n",
       "    .dataframe thead th {\n",
       "        text-align: right;\n",
       "    }\n",
       "</style>\n",
       "<table border=\"1\" class=\"dataframe\">\n",
       "  <thead>\n",
       "    <tr style=\"text-align: right;\">\n",
       "      <th></th>\n",
       "      <th>country</th>\n",
       "      <th>pc1_dis_gfc_rank</th>\n",
       "      <th>pc1_dis_cpc_rank</th>\n",
       "      <th>pc1_dis_cov19_rank</th>\n",
       "      <th>pc1_rec_gfc_rank</th>\n",
       "      <th>pc1_rec_cpc_rank</th>\n",
       "      <th>pc1_rec_cov19_rank</th>\n",
       "      <th>pc2_dis_gfc_rank</th>\n",
       "      <th>pc2_dis_cpc_rank</th>\n",
       "      <th>pc2_dis_cov19_rank</th>\n",
       "      <th>pc2_rec_gfc_rank</th>\n",
       "      <th>pc2_rec_cpc_rank</th>\n",
       "      <th>pc2_rec_cov19_rank</th>\n",
       "      <th>cluster_shifts_flag_rank</th>\n",
       "      <th>policy_lag_gfc_rank</th>\n",
       "      <th>policy_lag_cpc_rank</th>\n",
       "      <th>policy_lag_cov19_rank</th>\n",
       "      <th>missing_variables_rank</th>\n",
       "    </tr>\n",
       "  </thead>\n",
       "  <tbody>\n",
       "    <tr>\n",
       "      <th>0</th>\n",
       "      <td>Norway</td>\n",
       "      <td>5</td>\n",
       "      <td>7</td>\n",
       "      <td>4</td>\n",
       "      <td>3</td>\n",
       "      <td>6</td>\n",
       "      <td>1</td>\n",
       "      <td>2</td>\n",
       "      <td>5</td>\n",
       "      <td>2</td>\n",
       "      <td>4</td>\n",
       "      <td>5</td>\n",
       "      <td>1</td>\n",
       "      <td>1</td>\n",
       "      <td>3</td>\n",
       "      <td>1</td>\n",
       "      <td>5</td>\n",
       "      <td>1</td>\n",
       "    </tr>\n",
       "    <tr>\n",
       "      <th>1</th>\n",
       "      <td>United States</td>\n",
       "      <td>6</td>\n",
       "      <td>1</td>\n",
       "      <td>7</td>\n",
       "      <td>5</td>\n",
       "      <td>1</td>\n",
       "      <td>6</td>\n",
       "      <td>7</td>\n",
       "      <td>1</td>\n",
       "      <td>7</td>\n",
       "      <td>7</td>\n",
       "      <td>1</td>\n",
       "      <td>6</td>\n",
       "      <td>4</td>\n",
       "      <td>6</td>\n",
       "      <td>7</td>\n",
       "      <td>6</td>\n",
       "      <td>1</td>\n",
       "    </tr>\n",
       "    <tr>\n",
       "      <th>2</th>\n",
       "      <td>Germany</td>\n",
       "      <td>3</td>\n",
       "      <td>6</td>\n",
       "      <td>1</td>\n",
       "      <td>4</td>\n",
       "      <td>7</td>\n",
       "      <td>5</td>\n",
       "      <td>5</td>\n",
       "      <td>3</td>\n",
       "      <td>6</td>\n",
       "      <td>6</td>\n",
       "      <td>7</td>\n",
       "      <td>7</td>\n",
       "      <td>5</td>\n",
       "      <td>3</td>\n",
       "      <td>1</td>\n",
       "      <td>4</td>\n",
       "      <td>1</td>\n",
       "    </tr>\n",
       "    <tr>\n",
       "      <th>3</th>\n",
       "      <td>Japan</td>\n",
       "      <td>7</td>\n",
       "      <td>1</td>\n",
       "      <td>6</td>\n",
       "      <td>6</td>\n",
       "      <td>1</td>\n",
       "      <td>7</td>\n",
       "      <td>1</td>\n",
       "      <td>4</td>\n",
       "      <td>3</td>\n",
       "      <td>1</td>\n",
       "      <td>4</td>\n",
       "      <td>5</td>\n",
       "      <td>2</td>\n",
       "      <td>6</td>\n",
       "      <td>6</td>\n",
       "      <td>6</td>\n",
       "      <td>5</td>\n",
       "    </tr>\n",
       "    <tr>\n",
       "      <th>4</th>\n",
       "      <td>South Korea</td>\n",
       "      <td>1</td>\n",
       "      <td>1</td>\n",
       "      <td>2</td>\n",
       "      <td>1</td>\n",
       "      <td>1</td>\n",
       "      <td>4</td>\n",
       "      <td>3</td>\n",
       "      <td>6</td>\n",
       "      <td>5</td>\n",
       "      <td>2</td>\n",
       "      <td>2</td>\n",
       "      <td>4</td>\n",
       "      <td>7</td>\n",
       "      <td>3</td>\n",
       "      <td>1</td>\n",
       "      <td>1</td>\n",
       "      <td>1</td>\n",
       "    </tr>\n",
       "    <tr>\n",
       "      <th>5</th>\n",
       "      <td>Switzerland</td>\n",
       "      <td>2</td>\n",
       "      <td>1</td>\n",
       "      <td>5</td>\n",
       "      <td>2</td>\n",
       "      <td>1</td>\n",
       "      <td>3</td>\n",
       "      <td>6</td>\n",
       "      <td>7</td>\n",
       "      <td>1</td>\n",
       "      <td>3</td>\n",
       "      <td>6</td>\n",
       "      <td>2</td>\n",
       "      <td>6</td>\n",
       "      <td>1</td>\n",
       "      <td>1</td>\n",
       "      <td>1</td>\n",
       "      <td>5</td>\n",
       "    </tr>\n",
       "    <tr>\n",
       "      <th>6</th>\n",
       "      <td>Australia</td>\n",
       "      <td>4</td>\n",
       "      <td>1</td>\n",
       "      <td>3</td>\n",
       "      <td>7</td>\n",
       "      <td>1</td>\n",
       "      <td>2</td>\n",
       "      <td>4</td>\n",
       "      <td>2</td>\n",
       "      <td>4</td>\n",
       "      <td>5</td>\n",
       "      <td>3</td>\n",
       "      <td>3</td>\n",
       "      <td>2</td>\n",
       "      <td>1</td>\n",
       "      <td>1</td>\n",
       "      <td>3</td>\n",
       "      <td>5</td>\n",
       "    </tr>\n",
       "  </tbody>\n",
       "</table>\n",
       "</div>"
      ],
      "text/plain": [
       "         country  pc1_dis_gfc_rank  pc1_dis_cpc_rank  pc1_dis_cov19_rank  \\\n",
       "0         Norway                 5                 7                   4   \n",
       "1  United States                 6                 1                   7   \n",
       "2        Germany                 3                 6                   1   \n",
       "3          Japan                 7                 1                   6   \n",
       "4    South Korea                 1                 1                   2   \n",
       "5    Switzerland                 2                 1                   5   \n",
       "6      Australia                 4                 1                   3   \n",
       "\n",
       "   pc1_rec_gfc_rank  pc1_rec_cpc_rank  pc1_rec_cov19_rank  pc2_dis_gfc_rank  \\\n",
       "0                 3                 6                   1                 2   \n",
       "1                 5                 1                   6                 7   \n",
       "2                 4                 7                   5                 5   \n",
       "3                 6                 1                   7                 1   \n",
       "4                 1                 1                   4                 3   \n",
       "5                 2                 1                   3                 6   \n",
       "6                 7                 1                   2                 4   \n",
       "\n",
       "   pc2_dis_cpc_rank  pc2_dis_cov19_rank  pc2_rec_gfc_rank  pc2_rec_cpc_rank  \\\n",
       "0                 5                   2                 4                 5   \n",
       "1                 1                   7                 7                 1   \n",
       "2                 3                   6                 6                 7   \n",
       "3                 4                   3                 1                 4   \n",
       "4                 6                   5                 2                 2   \n",
       "5                 7                   1                 3                 6   \n",
       "6                 2                   4                 5                 3   \n",
       "\n",
       "   pc2_rec_cov19_rank  cluster_shifts_flag_rank  policy_lag_gfc_rank  \\\n",
       "0                   1                         1                    3   \n",
       "1                   6                         4                    6   \n",
       "2                   7                         5                    3   \n",
       "3                   5                         2                    6   \n",
       "4                   4                         7                    3   \n",
       "5                   2                         6                    1   \n",
       "6                   3                         2                    1   \n",
       "\n",
       "   policy_lag_cpc_rank  policy_lag_cov19_rank  missing_variables_rank  \n",
       "0                    1                      5                       1  \n",
       "1                    7                      6                       1  \n",
       "2                    1                      4                       1  \n",
       "3                    6                      6                       5  \n",
       "4                    1                      1                       1  \n",
       "5                    1                      1                       5  \n",
       "6                    1                      3                       5  "
      ]
     },
     "execution_count": 10,
     "metadata": {},
     "output_type": "execute_result"
    }
   ],
   "source": [
    "# Check contents\n",
    "df"
   ]
  },
  {
   "cell_type": "code",
   "execution_count": 12,
   "id": "70f43681-623c-4a39-96d1-7accfaa4d13f",
   "metadata": {},
   "outputs": [
    {
     "data": {
      "text/plain": [
       "Index(['country', 'pc1_dis_gfc_rank', 'pc1_dis_cpc_rank', 'pc1_dis_cov19_rank',\n",
       "       'pc1_rec_gfc_rank', 'pc1_rec_cpc_rank', 'pc1_rec_cov19_rank',\n",
       "       'pc2_dis_gfc_rank', 'pc2_dis_cpc_rank', 'pc2_dis_cov19_rank',\n",
       "       'pc2_rec_gfc_rank', 'pc2_rec_cpc_rank', 'pc2_rec_cov19_rank',\n",
       "       'cluster_shifts_flag_rank', 'policy_lag_gfc_rank',\n",
       "       'policy_lag_cpc_rank', 'policy_lag_cov19_rank',\n",
       "       'missing_variables_rank'],\n",
       "      dtype='object')"
      ]
     },
     "execution_count": 12,
     "metadata": {},
     "output_type": "execute_result"
    }
   ],
   "source": [
    "# Check variable names\n",
    "df.columns"
   ]
  },
  {
   "cell_type": "markdown",
   "id": "a78518b9-0d50-485f-b240-9a8f1420c9ba",
   "metadata": {},
   "source": [
    "#### Define a custom function to calculate one SRS (\"Shock Resilience Score\") for each country"
   ]
  },
  {
   "cell_type": "markdown",
   "id": "0fd4f518-cdae-4d50-822f-17d38cbf7363",
   "metadata": {},
   "source": [
    "#### Attribution: The Shock Resilience Score (SRS) model and scoring methodology were co-developed with OpenAI's ChatGPT, based on an iterative process combining human insight and AI-aided reasoning."
   ]
  },
  {
   "cell_type": "markdown",
   "id": "b406374b-f8b2-4668-a3e3-1a155333cc70",
   "metadata": {},
   "source": [
    "##### This custom function seeks to quantitatively assess and benchmark each country's economic resilience rankings on different measures through two (2) major exogenous shocks (\"GFC\" e.g. the Global Financial Crisis; and \"Cov-19\" e.g. the Covid-19 era) and one (1) moderate economic shock (\"CPC\" e.g. the 2014 Commodity Price Collapse)."
   ]
  },
  {
   "cell_type": "markdown",
   "id": "9876fad8-8d55-4fe8-b458-9bec956b2261",
   "metadata": {},
   "source": [
    "#### Model input descriptions"
   ]
  },
  {
   "cell_type": "markdown",
   "id": "84a74814-1300-42ee-914e-36ea0a643f56",
   "metadata": {},
   "source": [
    "##### The imported data ranking inputs to the model (custom function) were calculated in Excel. Rankings for each model input (e.g., factor) were based on the other \"6.5 Task 6.5 Extension SRS\" country-specific jupyter notebook PCA + k-means clustering results and exported data files, as follows:\n",
    "##### Ranking for each input (factor) is on a 1 (best) to 7 (worst) integer scale, per country (there are seven (7) countries examined).\n",
    "##### PC1 (Principal Component 1) and PC2 (Principal Component 2), from prior country-level PCA analysis, are significant drivers in the SRS model scoring methodology.\n",
    "##### The model arrives at a single aggregated SRS (after weights are applied to each factor and shock, where applicable) for each country: the smallest aggregated raw SRS indicates best-performing country, in terms of economic resilience.\n",
    "##### pc1_dis_[shock label]_rank is based on the largest magnitude change (positive or negative) in PC1 (Principal Component 1) triggered by the specified exogenous shock, from a 6-month average \"baseline\" figure for PC1 before the shock began, within a 24-month period from the shock start. The larger the magnitude of \"disruption\" compared to other countries, the worse the ranking.  There are three separate rankings on this factor for each country, corresponding to the three shocks evaluated in the model.\n",
    "##### pc1_rec_[shock label]_rank is based on the extent of \"recovery\" of PC1 (as a %) from its prior-determined largest-magnitude change point to its greatest recovery level relative to a 20+ year simple regression line of best fit for PC1, within a 24-month period following that prior-determined largest-magnitude change point.  Comment: 20+ year regression lines for PC1 were positively-sloped trend lines for six (6) countries, except Germany, which had a negatively-sloped trend line of best fit.  Meanwhile, for PC2 (Principal Component 2), which typically accounted for mean-reversion behavior in component variables, the best fit lines were near-flat with slopes close to zero. There are three separate rankings on this factor for each country, corresponding to the three shocks evaluated in the model.\n",
    "##### Ranking methodologies for the pc2 dis (\"disruption\") and rec (\"recovery\") inputs (factors) matched those used for pc1 disruption and recovery.\n",
    "##### cluster_shifts_flag_rank is based on the number of cluster shifts (economic regime changes) discovered in the k-means clustering analysis for each country, across the full 20+ year temporal range of the study.  This was not unbundled further into shock-specific regime change behavior, as there were many cluster pivots that occurred outside of shock temporal periods, which should be included in the model scoring.\n",
    "##### policy_lag_[shock label]_rank is based on the number of months it took a country's 10-year interest rate to meaningfully adjust to adverse inflation rate moves (or inflation rate proxies such as the Brent crude oil price (USD), if inflation rate data was lacking) during a specified exogenous crisis. This gives a rough one-dimensional idea of central bank policy responsiveness measured from a speed angle.  The Federal Reserve Bank of the United States for example, despite its presumed treasure trove and depth of available macro and microeconomic data, was slow to recognize that Covid-19 era inflation was not \"transitory\", causing a delayed or belated central bank response to fight inflation. Consumers in the United States are still dealing with the unintended consequences of that belated response. There are three separate rankings on this factor for each country, corresponding to the three shocks evaluated in the model.\n",
    "##### missing_variables_rank is based on how many key macroeconomic variables (with data available on a monthly skew level, rather than quarterly or annual) were missing from a country-provided dataset to the OECD, with our model penalizing omissions."
   ]
  },
  {
   "cell_type": "markdown",
   "id": "6fe3c281-9533-469e-9ff7-44463bf4e183",
   "metadata": {},
   "source": [
    "#### Model weights"
   ]
  },
  {
   "cell_type": "markdown",
   "id": "31b01e9c-852e-4e18-ae58-040c83adc725",
   "metadata": {},
   "source": [
    "##### The SRS model gives equal weighting to the 1-7 ranking score of each of these seven (7) factors, for a country: PC1 disruption, PC1 recovery, PC2 disruption, PC2 recovery, number of cluster shifts (economic regime changes), policy lag (number of months it takes the 10-year interest rate to meaningfully catch up with adverse CPI moves) and number of missing key variables in a country's dataset provided the OECD.  Five of the factors are further allocated crisis-specific sub-weights as follows: GFC (Global Financial Crisis) 0.4, Covid-19 0.4 and CPC (2014 Commodities Price Collapse) 0.2. The two factors not allocated crisis-specific sub-weights are the number of cluster shifts (which is evaluated across the full 20+ year temporal study period, as more representative of that dynamic) and the number of missing variables in a country's dataset (which is crisis-agnostic)."
   ]
  },
  {
   "cell_type": "markdown",
   "id": "00ccff96-30ff-455e-ab0b-f0d3d0ff4658",
   "metadata": {},
   "source": [
    "#### Model defined"
   ]
  },
  {
   "cell_type": "code",
   "execution_count": 14,
   "id": "d3ab3ab4-0540-4f47-9992-a370e101074e",
   "metadata": {},
   "outputs": [
    {
     "data": {
      "text/plain": [
       "Index(['country', 'pc1_dis_gfc_rank', 'pc1_dis_cpc_rank', 'pc1_dis_cov19_rank',\n",
       "       'pc1_rec_gfc_rank', 'pc1_rec_cpc_rank', 'pc1_rec_cov19_rank',\n",
       "       'pc2_dis_gfc_rank', 'pc2_dis_cpc_rank', 'pc2_dis_cov19_rank',\n",
       "       'pc2_rec_gfc_rank', 'pc2_rec_cpc_rank', 'pc2_rec_cov19_rank',\n",
       "       'cluster_shifts_flag_rank', 'policy_lag_gfc_rank',\n",
       "       'policy_lag_cpc_rank', 'policy_lag_cov19_rank',\n",
       "       'missing_variables_rank'],\n",
       "      dtype='object')"
      ]
     },
     "execution_count": 14,
     "metadata": {},
     "output_type": "execute_result"
    }
   ],
   "source": [
    "df.columns"
   ]
  },
  {
   "cell_type": "code",
   "execution_count": 16,
   "id": "8bc55112-1b9b-4203-a48d-312b34099840",
   "metadata": {},
   "outputs": [],
   "source": [
    "# Define custom function\n",
    "\n",
    "def compute_srs_from_ranks(\n",
    "    df,\n",
    "    country_col,\n",
    "    shock_weights,\n",
    "    pc1_dis_cols,\n",
    "    pc1_rec_cols,\n",
    "    pc2_dis_cols,\n",
    "    pc2_rec_cols,\n",
    "    policy_lag_cols,\n",
    "    cluster_shift_col='cluster_shifts_flag_rank',\n",
    "    missing_vars_col='missing_variables_rank',\n",
    "    normalize_to_100=True\n",
    "):\n",
    "    scores = []\n",
    "\n",
    "    for _, row in df.iterrows():\n",
    "        total = 0\n",
    "        for shock, weight in shock_weights.items():\n",
    "            total += weight * (\n",
    "                row[pc1_dis_cols[shock]] +\n",
    "                row[pc1_rec_cols[shock]] +\n",
    "                row[pc2_dis_cols[shock]] +\n",
    "                row[pc2_rec_cols[shock]] +\n",
    "                row[policy_lag_cols[shock]]\n",
    "            )\n",
    "        total += row[cluster_shift_col]\n",
    "        total += row[missing_vars_col]\n",
    "        scores.append((row[country_col], total))\n",
    "\n",
    "    out = pd.DataFrame(scores, columns=[country_col, 'raw_srs'])\n",
    "\n",
    "    if normalize_to_100:\n",
    "        max_val = out['raw_srs'].max()\n",
    "        min_val = out['raw_srs'].min()\n",
    "        out['SRS_0_100'] = 100 * (max_val - out['raw_srs']) / (max_val - min_val)\n",
    "\n",
    "    return out.sort_values('SRS_0_100', ascending=False).reset_index(drop=True)"
   ]
  },
  {
   "cell_type": "markdown",
   "id": "09de67a7-7190-4b3b-84fb-334355a6de0c",
   "metadata": {},
   "source": [
    "#### Define the function mappings"
   ]
  },
  {
   "cell_type": "code",
   "execution_count": 19,
   "id": "63e2ad63-5922-4304-bce1-38d41955ce5d",
   "metadata": {},
   "outputs": [],
   "source": [
    "shock_weights = {'gfc': 0.4, 'cov19': 0.4, 'cpc': 0.2}\n",
    "\n",
    "pc1_dis_cols = {\n",
    "    'gfc': 'pc1_dis_gfc_rank',\n",
    "    'cpc': 'pc1_dis_cpc_rank',\n",
    "    'cov19': 'pc1_dis_cov19_rank'\n",
    "}\n",
    "pc1_rec_cols = {\n",
    "    'gfc': 'pc1_rec_gfc_rank',\n",
    "    'cpc': 'pc1_rec_cpc_rank',\n",
    "    'cov19': 'pc1_rec_cov19_rank'\n",
    "}\n",
    "pc2_dis_cols = {\n",
    "    'gfc': 'pc2_dis_gfc_rank',\n",
    "    'cpc': 'pc2_dis_cpc_rank',\n",
    "    'cov19': 'pc2_dis_cov19_rank'\n",
    "}\n",
    "pc2_rec_cols = {\n",
    "    'gfc': 'pc2_rec_gfc_rank',\n",
    "    'cpc': 'pc2_rec_cpc_rank',\n",
    "    'cov19': 'pc2_rec_cov19_rank'\n",
    "}\n",
    "policy_lag_cols = {\n",
    "    'gfc': 'policy_lag_gfc_rank',\n",
    "    'cpc': 'policy_lag_cpc_rank',\n",
    "    'cov19': 'policy_lag_cov19_rank'\n",
    "}"
   ]
  },
  {
   "cell_type": "markdown",
   "id": "e3f55105-1715-4d35-bd53-ec4a1b7d79e1",
   "metadata": {},
   "source": [
    "#### Call the compute_srs_from_ranks custom function"
   ]
  },
  {
   "cell_type": "code",
   "execution_count": 22,
   "id": "9b95a0dc-9111-400f-ab13-7c52c9b298a5",
   "metadata": {},
   "outputs": [],
   "source": [
    "srs_df = compute_srs_from_ranks(\n",
    "    df=df,  # your DataFrame\n",
    "    country_col='country',\n",
    "    shock_weights=shock_weights,\n",
    "    pc1_dis_cols=pc1_dis_cols,\n",
    "    pc1_rec_cols=pc1_rec_cols,\n",
    "    pc2_dis_cols=pc2_dis_cols,\n",
    "    pc2_rec_cols=pc2_rec_cols,\n",
    "    policy_lag_cols=policy_lag_cols,\n",
    "    cluster_shift_col='cluster_shifts_flag_rank',\n",
    "    missing_vars_col='missing_variables_rank',\n",
    "    normalize_to_100=True\n",
    ")"
   ]
  },
  {
   "cell_type": "markdown",
   "id": "197da647-0c1d-4c5a-8a46-d8b367ff6fcc",
   "metadata": {},
   "source": [
    "#### Output the created SRS dataframe"
   ]
  },
  {
   "cell_type": "code",
   "execution_count": 25,
   "id": "4a86831b-db5d-41f7-bf45-6cc416706b0c",
   "metadata": {},
   "outputs": [
    {
     "name": "stdout",
     "output_type": "stream",
     "text": [
      "         country  raw_srs   SRS_0_100\n",
      "0         Norway     18.8  100.000000\n",
      "1    South Korea     20.6   86.764706\n",
      "2      Australia     23.0   69.117647\n",
      "3    Switzerland     24.6   57.352941\n",
      "4        Germany     28.4   29.411765\n",
      "5          Japan     29.4   22.058824\n",
      "6  United States     32.4    0.000000\n"
     ]
    }
   ],
   "source": [
    "print(srs_df)"
   ]
  },
  {
   "cell_type": "markdown",
   "id": "0831d99f-c03f-44c8-a8fe-7341655832b2",
   "metadata": {},
   "source": [
    "##### The higher the SRS-normalized-to-100 score, the more resilient the economy. The three (3) countries with the largest populations and GDP within the group of seven (7) countries scored the worst.  Population and GDP size do not appear to influence economic resilience positively at all."
   ]
  },
  {
   "cell_type": "code",
   "execution_count": 27,
   "id": "af244aec-73e2-408c-94b2-56c8c21610ca",
   "metadata": {},
   "outputs": [],
   "source": [
    "# Export the SRS dataframe\n",
    "path = r'C:\\Users\\dirk8\\CareerFoundry Projects\\05-2025 Exogenous Shocks Analysis'\n",
    "srs_df.to_excel(os.path.join(path, 'Data', 'Prepared Data', 'SRS Final Scores.xlsx'))"
   ]
  },
  {
   "cell_type": "markdown",
   "id": "0a5a7bdc-ed30-4bd5-b19a-6fc73cb3381c",
   "metadata": {},
   "source": [
    "### 03. Key project finding"
   ]
  },
  {
   "cell_type": "markdown",
   "id": "2ba03e97-e2ea-4b0e-ace1-b67c4be30b20",
   "metadata": {},
   "source": [
    "## Norway is the most resilient country, from a macroeconomic perspective, over the last 20+ years and through multiple exogenous economic shocks.  The United States is the least resilient country of the seven (7) OECD members examined, over the same period, using our custom-defined SRS model and based on data observations throughout this ESA (\"Exogenous Shocks Analysis\") project."
   ]
  },
  {
   "cell_type": "markdown",
   "id": "1ba22ee0-062d-4051-ba6c-d62c3133d827",
   "metadata": {},
   "source": [
    "## If economic regime stability through frequent exogenous shocks is a priority for a multinational corporation, it may wish to consider many countries beyond the United States as economic safe haven candidates."
   ]
  },
  {
   "cell_type": "markdown",
   "id": "7ac310fa-d663-434d-b00e-e2fad7a01338",
   "metadata": {},
   "source": [
    "### Archived"
   ]
  },
  {
   "cell_type": "markdown",
   "id": "dd8ab34c-b8ab-4001-abb5-6cba4fac24c7",
   "metadata": {},
   "source": [
    "#### Memo item: version of the custom function allowing customization of specific weights for the model inputs."
   ]
  },
  {
   "cell_type": "code",
   "execution_count": 62,
   "id": "6046801b-3b05-4fbc-9ad1-6bd9f8ae22c9",
   "metadata": {},
   "outputs": [],
   "source": [
    "import pandas as pd\n",
    "\n",
    "def compute_srs_from_ranks_custom_weights(\n",
    "    df,\n",
    "    country_col,\n",
    "    shock_weights,\n",
    "    metric_weights,\n",
    "    pc1_dis_cols,\n",
    "    pc1_rec_cols,\n",
    "    pc2_dis_cols,\n",
    "    pc2_rec_cols,\n",
    "    policy_lag_cols,\n",
    "    cluster_shift_col='cluster_shifts_flag_rank',\n",
    "    cluster_shift_weight=1.0,\n",
    "    missing_vars_col='missing_variables_rank',\n",
    "    missing_vars_weight=1.0,\n",
    "    normalize_to_100=True\n",
    "):\n",
    "    scores = []\n",
    "\n",
    "    for _, row in df.iterrows():\n",
    "        total = 0\n",
    "        for shock, shock_wt in shock_weights.items():\n",
    "            total += shock_wt * (\n",
    "                metric_weights['pc1_dis'] * row[pc1_dis_cols[shock]] +\n",
    "                metric_weights['pc1_rec'] * row[pc1_rec_cols[shock]] +\n",
    "                metric_weights['pc2_dis'] * row[pc2_dis_cols[shock]] +\n",
    "                metric_weights['pc2_rec'] * row[pc2_rec_cols[shock]] +\n",
    "                metric_weights['policy_lag'] * row[policy_lag_cols[shock]]\n",
    "            )\n",
    "        total += cluster_shift_weight * row[cluster_shift_col]\n",
    "        total += missing_vars_weight * row[missing_vars_col]\n",
    "        scores.append((row[country_col], total))\n",
    "\n",
    "    out = pd.DataFrame(scores, columns=[country_col, 'raw_srs'])\n",
    "\n",
    "    if normalize_to_100:\n",
    "        max_val = out['raw_srs'].max()\n",
    "        min_val = out['raw_srs'].min()\n",
    "        out['SRS_0_100'] = 100 * (max_val - out['raw_srs']) / (max_val - min_val)\n",
    "\n",
    "    return out.sort_values('SRS_0_100', ascending=False).reset_index(drop=True)"
   ]
  }
 ],
 "metadata": {
  "kernelspec": {
   "display_name": "Python [conda env:base] *",
   "language": "python",
   "name": "conda-base-py"
  },
  "language_info": {
   "codemirror_mode": {
    "name": "ipython",
    "version": 3
   },
   "file_extension": ".py",
   "mimetype": "text/x-python",
   "name": "python",
   "nbconvert_exporter": "python",
   "pygments_lexer": "ipython3",
   "version": "3.12.3"
  }
 },
 "nbformat": 4,
 "nbformat_minor": 5
}
